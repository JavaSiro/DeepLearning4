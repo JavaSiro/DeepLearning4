{
 "cells": [
  {
   "cell_type": "code",
   "execution_count": null,
   "metadata": {},
   "outputs": [],
   "source": [
    "import torch\n",
    "import torch.nn as nn\n",
    "import torch.optim as optim\n",
    "import numpy as np\n",
    "from torchvision import datasets, transforms\n",
    "from torch.utils.data import DataLoader"
   ]
  },
  {
   "cell_type": "code",
   "execution_count": null,
   "metadata": {},
   "outputs": [],
   "source": [
    "# 1. Implement SoftMax Function from Scratch & Compare with PyTorch\n",
    "def softmax_numpy(x):\n",
    "    exp_x = np.exp(x - np.max(x))  # Subtract max for numerical stability\n",
    "    return exp_x / np.sum(exp_x, axis=0)\n",
    "\n",
    "# Test input\n",
    "input_data = np.array([2.0, 1.0, 0.1])\n",
    "\n",
    "# SoftMax using NumPy\n",
    "numpy_result = softmax_numpy(input_data)\n",
    "\n",
    "# SoftMax using PyTorch\n",
    "torch_result = torch.nn.functional.softmax(torch.tensor(input_data), dim=0).numpy()\n",
    "\n",
    "# Compare results\n",
    "print(\"NumPy SoftMax:\", numpy_result)\n",
    "print(\"PyTorch SoftMax:\", torch_result)\n",
    "print(\"Are they equal?\", np.allclose(numpy_result, torch_result))"
   ]
  },
  {
   "cell_type": "code",
   "execution_count": 7,
   "metadata": {},
   "outputs": [
    {
     "name": "stdout",
     "output_type": "stream",
     "text": [
      "Pred: 0.1, GT: 0, Loss: 0.10536051565782628\n",
      "Pred: 0.9, GT: 1, Loss: 0.10536051565782628\n",
      "Pred: 0.2, GT: 1, Loss: 1.6094379124341003\n",
      "Pred: 0.8, GT: 0, Loss: 1.6094379124341005\n"
     ]
    }
   ],
   "source": [
    "# 2. Understanding Cross Entropy Loss\n",
    "def binary_cross_entropy(y_pred, y_true, epsilon=1e-12):\n",
    "    y_pred = np.clip(y_pred, epsilon, 1. - epsilon)  # Avoid log(0)\n",
    "    return - (y_true * np.log(y_pred) + (1 - y_true) * np.log(1 - y_pred))\n",
    "\n",
    "cases = [(0.1, 0), (0.9, 1), (0.2, 1), (0.8, 0)]\n",
    "\n",
    "for pred, gt in cases:\n",
    "    loss = binary_cross_entropy(pred, gt)\n",
    "    print(f\"Pred: {pred}, GT: {gt}, Loss: {loss}\")"
   ]
  },
  {
   "cell_type": "code",
   "execution_count": 8,
   "metadata": {},
   "outputs": [
    {
     "name": "stdout",
     "output_type": "stream",
     "text": [
      "Created Adam optimizer with learning rate: 0.1\n",
      "Created Adam optimizer with learning rate: 0.01\n",
      "Created Adam optimizer with learning rate: 0.001\n",
      "Created Adam optimizer with learning rate: 0.0001\n"
     ]
    }
   ],
   "source": [
    "# 3. Understanding Adam Optimizer\n",
    "class SimpleNN(nn.Module):\n",
    "    def __init__(self):\n",
    "        super(SimpleNN, self).__init__()\n",
    "        self.fc1 = nn.Linear(28 * 28, 128)\n",
    "        self.relu = nn.ReLU()\n",
    "        self.fc2 = nn.Linear(128, 10)\n",
    "\n",
    "    def forward(self, x):\n",
    "        x = x.view(x.size(0), -1)  # Flatten input\n",
    "        x = self.fc1(x)\n",
    "        x = self.relu(x)\n",
    "        x = self.fc2(x)\n",
    "        return x\n",
    "\n",
    "# Initialize model\n",
    "model = SimpleNN()\n",
    "\n",
    "# List of different learning rates\n",
    "learning_rates = [0.1, 0.01, 0.001, 0.0001]\n",
    "optimizers = {lr: optim.Adam(model.parameters(), lr=lr) for lr in learning_rates}\n",
    "\n",
    "for lr in learning_rates:\n",
    "    print(f\"Created Adam optimizer with learning rate: {lr}\")"
   ]
  },
  {
   "cell_type": "code",
   "execution_count": null,
   "metadata": {},
   "outputs": [],
   "source": [
    "# 4. Training a Fashion MNIST Classifier\n",
    "transform = transforms.Compose([transforms.ToTensor(), transforms.Normalize((0.5,), (0.5,))])\n",
    "\n",
    "# Load Fashion MNIST dataset\n",
    "train_dataset = datasets.FashionMNIST(root='./data', train=True, transform=transform, download=True)\n",
    "test_dataset = datasets.FashionMNIST(root='./data', train=False, transform=transform, download=True)\n",
    "\n",
    "train_loader = DataLoader(train_dataset, batch_size=64, shuffle=True)\n",
    "test_loader = DataLoader(test_dataset, batch_size=64, shuffle=False)\n",
    "\n",
    "# Initialize model, loss, and optimizer\n",
    "model = SimpleNN()\n",
    "criterion = nn.CrossEntropyLoss()\n",
    "optimizer = optim.Adam(model.parameters(), lr=0.001)\n",
    "\n",
    "# Training loop\n",
    "num_epochs = 5\n",
    "for epoch in range(num_epochs):\n",
    "    model.train()\n",
    "    total_loss, correct, total = 0, 0, 0\n",
    "    \n",
    "    for images, labels in train_loader:\n",
    "        optimizer.zero_grad()\n",
    "        outputs = model(images)\n",
    "        loss = criterion(outputs, labels)\n",
    "        loss.backward()\n",
    "        optimizer.step()\n",
    "        \n",
    "        total_loss += loss.item()\n",
    "        _, predicted = torch.max(outputs, 1)\n",
    "        correct += (predicted == labels).sum().item()\n",
    "        total += labels.size(0)\n",
    "    \n",
    "    print(f\"Epoch [{epoch+1}/{num_epochs}], Loss: {total_loss/len(train_loader):.4f}, Accuracy: {correct/total:.4f}\")"
   ]
  },
  {
   "cell_type": "code",
   "execution_count": null,
   "metadata": {},
   "outputs": [],
   "source": [
    "# 5. Evaluating the Model on Test Data\n",
    "model.eval()\n",
    "test_loss, correct, total = 0, 0, 0\n",
    "\n",
    "with torch.no_grad():\n",
    "    for images, labels in test_loader:\n",
    "        outputs = model(images)\n",
    "        loss = criterion(outputs, labels)\n",
    "        test_loss += loss.item()\n",
    "        \n",
    "        _, predicted = torch.max(outputs, 1)\n",
    "        correct += (predicted == labels).sum().item()\n",
    "        total += labels.size(0)\n",
    "\n",
    "print(f\"Test Loss: {test_loss/len(test_loader):.4f}, Test Accuracy: {correct/total:.4f}\")"
   ]
  }
 ],
 "metadata": {
  "kernelspec": {
   "display_name": "Python 3",
   "language": "python",
   "name": "python3"
  },
  "language_info": {
   "codemirror_mode": {
    "name": "ipython",
    "version": 3
   },
   "file_extension": ".py",
   "mimetype": "text/x-python",
   "name": "python",
   "nbconvert_exporter": "python",
   "pygments_lexer": "ipython3",
   "version": "3.12.6"
  }
 },
 "nbformat": 4,
 "nbformat_minor": 2
}
