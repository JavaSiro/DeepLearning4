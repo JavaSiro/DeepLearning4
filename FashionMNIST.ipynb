{
 "cells": [
  {
   "cell_type": "code",
   "execution_count": 1,
   "metadata": {},
   "outputs": [],
   "source": [
    "import torch\n",
    "import torch.nn as nn\n",
    "import torch.optim as optim\n",
    "import numpy as np\n",
    "from torchvision import datasets, transforms\n",
    "from torch.utils.data import DataLoader"
   ]
  },
  {
   "cell_type": "code",
   "execution_count": 2,
   "metadata": {},
   "outputs": [],
   "source": [
    "# 1. Implement SoftMax Function from Scratch & Compare with PyTorch\n",
    "def softmax_numpy(x):\n",
    "    exp_x = np.exp(x - np.max(x))  # Subtract max for numerical stability\n",
    "    return exp_x / np.sum(exp_x, axis=0)"
   ]
  },
  {
   "cell_type": "code",
   "execution_count": 3,
   "metadata": {},
   "outputs": [],
   "source": [
    "# Test input\n",
    "input_data = np.array([2.0, 1.0, 0.1])"
   ]
  },
  {
   "cell_type": "code",
   "execution_count": 4,
   "metadata": {},
   "outputs": [],
   "source": [
    "# SoftMax using NumPy\n",
    "numpy_result = softmax_numpy(input_data)"
   ]
  },
  {
   "cell_type": "code",
   "execution_count": 5,
   "metadata": {},
   "outputs": [],
   "source": [
    "# SoftMax using PyTorch\n",
    "torch_result = torch.nn.functional.softmax(torch.tensor(input_data), dim=0).numpy()"
   ]
  },
  {
   "cell_type": "code",
   "execution_count": 6,
   "metadata": {},
   "outputs": [
    {
     "name": "stdout",
     "output_type": "stream",
     "text": [
      "NumPy SoftMax: [0.65900114 0.24243297 0.09856589]\n",
      "PyTorch SoftMax: [0.65900114 0.24243297 0.09856589]\n",
      "Are they equal? True\n"
     ]
    }
   ],
   "source": [
    "# Compare results\n",
    "print(\"NumPy SoftMax:\", numpy_result)\n",
    "print(\"PyTorch SoftMax:\", torch_result)\n",
    "print(\"Are they equal?\", np.allclose(numpy_result, torch_result))"
   ]
  }
 ],
 "metadata": {
  "kernelspec": {
   "display_name": "Python 3",
   "language": "python",
   "name": "python3"
  },
  "language_info": {
   "codemirror_mode": {
    "name": "ipython",
    "version": 3
   },
   "file_extension": ".py",
   "mimetype": "text/x-python",
   "name": "python",
   "nbconvert_exporter": "python",
   "pygments_lexer": "ipython3",
   "version": "3.12.6"
  }
 },
 "nbformat": 4,
 "nbformat_minor": 2
}
